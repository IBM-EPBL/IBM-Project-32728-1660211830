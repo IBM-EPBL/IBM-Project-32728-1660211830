{
  "nbformat": 4,
  "nbformat_minor": 0,
  "metadata": {
    "colab": {
      "private_outputs": true,
      "provenance": [],
      "collapsed_sections": []
    },
    "kernelspec": {
      "name": "python3",
      "display_name": "Python 3"
    },
    "language_info": {
      "name": "python"
    }
  },
  "cells": [
    {
      "cell_type": "markdown",
      "source": [
        "# Image Processing -  Augmentation Concept\n",
        "\n",
        "Team github ID : IBM-Project-32728-1660211830"
      ],
      "metadata": {
        "id": "-OdZb7egVqyF"
      }
    },
    {
      "cell_type": "markdown",
      "source": [
        "# **Augmentor:**\n",
        "\n",
        "\n",
        "\n",
        "Augmentor is a Python package designed to aid the augmentation and artificial generation of image data for machine learning tasks. It is primarily a data augmentation tool, but will also incorporate basic image pre-processing functionality."
      ],
      "metadata": {
        "id": "00xoawcEU0rp"
      }
    },
    {
      "cell_type": "code",
      "execution_count": null,
      "metadata": {
        "id": "cYLY9OeOUYK9"
      },
      "outputs": [],
      "source": [
        "!pip install Augmentor"
      ]
    },
    {
      "cell_type": "code",
      "source": [
        "import Augmentor\n",
        "\n",
        "path_to_data = \"/home/user/images/dataset1/\"\n",
        "\n",
        "p = Augmentor.Pipeline(path_to_data)\n",
        "\n",
        "p.flip_left_right(probability=0.4)\n",
        "\n",
        "p.flip_top_bottom(probability=0.8)\n",
        "\n",
        "p.rotate90(probability=0.1)\n",
        "\n",
        "p.sample(num_of_samples)"
      ],
      "metadata": {
        "id": "k1q_GIynVSaT"
      },
      "execution_count": null,
      "outputs": []
    }
  ]
}